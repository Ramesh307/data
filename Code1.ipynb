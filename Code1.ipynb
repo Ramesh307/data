{
  "nbformat": 4,
  "nbformat_minor": 0,
  "metadata": {
    "colab": {
      "provenance": [],
      "authorship_tag": "ABX9TyP4sjBV50c4EW7C1li5BxBy",
      "include_colab_link": true
    },
    "kernelspec": {
      "name": "python3",
      "display_name": "Python 3"
    },
    "language_info": {
      "name": "python"
    }
  },
  "cells": [
    {
      "cell_type": "markdown",
      "metadata": {
        "id": "view-in-github",
        "colab_type": "text"
      },
      "source": [
        "<a href=\"https://colab.research.google.com/github/Ramesh307/data/blob/main/Code1.ipynb\" target=\"_parent\"><img src=\"https://colab.research.google.com/assets/colab-badge.svg\" alt=\"Open In Colab\"/></a>"
      ]
    },
    {
      "cell_type": "code",
      "source": [
        "import numpy as np\n",
        "import matplotlib.pyplot as plt\n",
        "import copy\n",
        "import math\n",
        "\n",
        "%matplotlib inline"
      ],
      "metadata": {
        "id": "_RCjgYrkld6J"
      },
      "execution_count": null,
      "outputs": []
    },
    {
      "cell_type": "code",
      "source": [
        "def sigmoid(z):\n",
        "  return 1 / (1 + np.exp(-z))"
      ],
      "metadata": {
        "id": "FxgMWv5jnTlk"
      },
      "execution_count": null,
      "outputs": []
    },
    {
      "cell_type": "code",
      "source": [
        "def predict(X, weights):\n",
        "  z = np.dot(X, weights)\n",
        "  return sigmoid(z)"
      ],
      "metadata": {
        "id": "6rdgUh1_nf_w"
      },
      "execution_count": null,
      "outputs": []
    },
    {
      "cell_type": "code",
      "source": [
        "def cost_function(X, y, weights):\n",
        "  y_pred = predict(X, weights)\n",
        "  cost = (-y * np.log(y_pred) - (1 - y) * np.log(1 - y_pred)).mean()\n",
        "  return cost"
      ],
      "metadata": {
        "id": "IxhF2YahnmoO"
      },
      "execution_count": null,
      "outputs": []
    },
    {
      "cell_type": "code",
      "source": [
        "def update_weights(X, y, weights, learning_rate):\n",
        "  y_pred = predict(X, weights)\n",
        "  weights -= learning_rate * np.dot(X.T, y_pred - y) / y.shape[0]\n",
        "  return weights"
      ],
      "metadata": {
        "id": "CTUeK30uorL6"
      },
      "execution_count": null,
      "outputs": []
    },
    {
      "cell_type": "code",
      "source": [
        "def train(X, y, weights, learning_rate, num_iterations):\n",
        "  for i in range(num_iterations):\n",
        "    weights = update_weights(X, y, weights, learning_rate)\n",
        "    cost = cost_function(X, y, weights)\n",
        "    if i % 1000 == 0:\n",
        "      print(\"Cost at iteration %d: %f\" % (i, cost))\n",
        "  return weights"
      ],
      "metadata": {
        "id": "R64_1e2EowDl"
      },
      "execution_count": null,
      "outputs": []
    },
    {
      "cell_type": "code",
      "source": [
        "def logistic_regression(X, y, learning_rate, num_iterations):\n",
        "  # Add a column of ones to the X data matrix\n",
        "  X = np.hstack((np.ones((X.shape[0], 1)), X))\n",
        "  # Initialize weights to zeros\n",
        "  weights = np.zeros(X.shape[1])\n",
        "  # Train the model\n",
        "  weights = train(X, y, weights, learning_rate, num_iterations)\n",
        "  return weights"
      ],
      "metadata": {
        "id": "WNdD3sW1o1IO"
      },
      "execution_count": null,
      "outputs": []
    }
  ]
}